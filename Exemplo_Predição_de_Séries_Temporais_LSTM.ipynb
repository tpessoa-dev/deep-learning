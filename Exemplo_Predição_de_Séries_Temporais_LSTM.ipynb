{
  "nbformat": 4,
  "nbformat_minor": 0,
  "metadata": {
    "colab": {
      "name": "Exemplo Predição de Séries Temporais LSTM.ipynb",
      "provenance": [],
      "include_colab_link": true
    },
    "kernelspec": {
      "name": "python3",
      "display_name": "Python 3"
    },
    "language_info": {
      "name": "python"
    }
  },
  "cells": [
    {
      "cell_type": "markdown",
      "metadata": {
        "id": "view-in-github",
        "colab_type": "text"
      },
      "source": [
        "<a href=\"https://colab.research.google.com/github/tpessoa-dev/deep-learning/blob/main/Exemplo_Predi%C3%A7%C3%A3o_de_S%C3%A9ries_Temporais_LSTM.ipynb\" target=\"_parent\"><img src=\"https://colab.research.google.com/assets/colab-badge.svg\" alt=\"Open In Colab\"/></a>"
      ]
    },
    {
      "cell_type": "code",
      "metadata": {
        "id": "5HPvRVjiV-Om"
      },
      "source": [
        "import numpy as np\n",
        "import matplotlib.pyplot as plt\n",
        "from pandas import read_csv\n",
        "import math\n",
        "\n",
        "from keras.models import Sequential\n",
        "from keras.layers import Dense\n",
        "from keras.layers import LSTM\n",
        "from sklearn.preprocessing import MinMaxScaler,StandardScaler\n",
        "from sklearn.metrics import mean_squared_error"
      ],
      "execution_count": null,
      "outputs": []
    },
    {
      "cell_type": "code",
      "metadata": {
        "id": "XCDgqjwQV_iR"
      },
      "source": [
        "def create_dataset(dataset, look_back=1):\n",
        "\tdataX, dataY = [], []\n",
        "\tfor i in range(len(dataset)-look_back-1):\n",
        "\t\ta = dataset[i:(i+look_back), 0]\n",
        "\t\tdataX.append(a)\n",
        "\t\tdataY.append(dataset[i + look_back, 0])\n",
        "\treturn np.array(dataX), np.array(dataY)"
      ],
      "execution_count": null,
      "outputs": []
    },
    {
      "cell_type": "code",
      "metadata": {
        "id": "FTlO_blXWElf"
      },
      "source": [
        "np.random.seed(7)\n",
        "\n",
        "#Carrega o dataset\n",
        "#international airline passengers problem with time step regression framing\n",
        "dataframe = read_csv('https://telescopeinstorage.blob.core.windows.net/datasets/AirPassengers.csv', usecols=[1], engine='python')\n",
        "dataframe.head(150)"
      ],
      "execution_count": null,
      "outputs": []
    },
    {
      "cell_type": "code",
      "metadata": {
        "id": "35a2FcxEYeVE"
      },
      "source": [
        "X = dataframe.values\n",
        "X = X.astype('float32')"
      ],
      "execution_count": null,
      "outputs": []
    },
    {
      "cell_type": "code",
      "metadata": {
        "id": "cYH4IY8KWIZx"
      },
      "source": [
        "plt.figure(figsize=(10,8))\n",
        "plt.plot(dataframe)"
      ],
      "execution_count": null,
      "outputs": []
    },
    {
      "cell_type": "code",
      "metadata": {
        "id": "eBNctqS7WM0h"
      },
      "source": [
        "#Normaliza o dataset\n",
        "scaler = MinMaxScaler(feature_range=(0, 1))\n",
        "\n",
        "#scaler = StandardScaler()\n",
        "X = scaler.fit_transform(X)"
      ],
      "execution_count": null,
      "outputs": []
    },
    {
      "cell_type": "code",
      "metadata": {
        "id": "P6LzUvK3WRyU"
      },
      "source": [
        "train_size = int(len(X) * 0.7)\n",
        "test_size = len(X) - train_size\n",
        "\n",
        "train = X[0:train_size,:]\n",
        "test =  X[train_size:len(X),:]"
      ],
      "execution_count": null,
      "outputs": []
    },
    {
      "cell_type": "code",
      "metadata": {
        "id": "edA6exZmMiGj"
      },
      "source": [
        "plt.plot(train)"
      ],
      "execution_count": null,
      "outputs": []
    },
    {
      "cell_type": "code",
      "metadata": {
        "id": "G01WyLb5MnYw"
      },
      "source": [
        "plt.plot(test)"
      ],
      "execution_count": null,
      "outputs": []
    },
    {
      "cell_type": "code",
      "metadata": {
        "id": "F-qYlfHZWd-R"
      },
      "source": [
        "# quantidade de atrasos\n",
        "look_back = 3\n",
        "\n",
        "X_train, y_train = create_dataset(train, look_back)\n",
        "X_test, y_test = create_dataset(test, look_back)\n",
        "\n",
        "# reshape da entrada para ser [amostras, time steps, caracteristicas]\n",
        "X_train = np.reshape(X_train, (X_train.shape[0], X_train.shape[1], 1))\n",
        "X_test = np.reshape(X_test, (X_test.shape[0], X_test.shape[1], 1))\n"
      ],
      "execution_count": null,
      "outputs": []
    },
    {
      "cell_type": "code",
      "metadata": {
        "id": "XvNJVH-6Pag3"
      },
      "source": [
        "X_train[1]"
      ],
      "execution_count": null,
      "outputs": []
    },
    {
      "cell_type": "code",
      "metadata": {
        "id": "oNNjW3iKPz5H"
      },
      "source": [
        "y_train[0]"
      ],
      "execution_count": null,
      "outputs": []
    },
    {
      "cell_type": "code",
      "metadata": {
        "id": "tIqC7Fn6Wh1u"
      },
      "source": [
        "# Cria e treina a rede LSTM\n",
        "model = Sequential()\n",
        "model.add(LSTM(8, input_shape=(look_back, 1)))\n",
        "model.add(Dense(1))\n",
        "model.compile(loss='mean_squared_error', optimizer='adam')\n",
        "\n",
        "model.fit(X_train, y_train, epochs=100, batch_size=1, verbose=1)"
      ],
      "execution_count": null,
      "outputs": []
    },
    {
      "cell_type": "code",
      "metadata": {
        "id": "Rit6p_YwWm3P"
      },
      "source": [
        "# Predições\n",
        "trainPredict = model.predict(X_train)\n",
        "testPredict = model.predict(X_test)"
      ],
      "execution_count": null,
      "outputs": []
    },
    {
      "cell_type": "code",
      "metadata": {
        "id": "8BN-3C78WpxY"
      },
      "source": [
        "# Faz a transformação inversa das predições\n",
        "trainPredict = scaler.inverse_transform(trainPredict)\n",
        "y_train = scaler.inverse_transform([y_train])\n",
        "testPredict = scaler.inverse_transform(testPredict)\n",
        "y_test = scaler.inverse_transform([y_test])"
      ],
      "execution_count": null,
      "outputs": []
    },
    {
      "cell_type": "code",
      "metadata": {
        "colab": {
          "base_uri": "https://localhost:8080/"
        },
        "id": "iUylOOWBW7vW",
        "outputId": "cc34f5d7-ece3-4291-d0e9-8a137722d8ba"
      },
      "source": [
        "# Calcula o RMSE\n",
        "trainScore = math.sqrt(mean_squared_error(y_train[0], trainPredict[:,0]))\n",
        "print('Train Score: %.2f RMSE' % (trainScore))\n",
        "testScore = math.sqrt(mean_squared_error(y_test[0], testPredict[:,0]))\n",
        "print('Test Score: %.2f RMSE' % (testScore))"
      ],
      "execution_count": null,
      "outputs": [
        {
          "output_type": "stream",
          "text": [
            "Train Score: 24.51 RMSE\n",
            "Test Score: 55.96 RMSE\n"
          ],
          "name": "stdout"
        }
      ]
    },
    {
      "cell_type": "code",
      "metadata": {
        "id": "8oK6adlJXB_i"
      },
      "source": [
        "# Prepara o vetor para plotagem do conjunto de treinamento\n",
        "trainPredictPlot = np.empty_like(X)\n",
        "trainPredictPlot[:, :] = np.nan\n",
        "trainPredictPlot[look_back-1:len(trainPredict)+look_back-1, :] = trainPredict"
      ],
      "execution_count": null,
      "outputs": []
    },
    {
      "cell_type": "code",
      "metadata": {
        "id": "aBl_OkfWXIqG"
      },
      "source": [
        "# Prepara o vetor para plotagem do conjunto das predições\n",
        "testPredictPlot = np.empty_like(X)\n",
        "testPredictPlot[:, :] = np.nan\n",
        "testPredictPlot[len(trainPredict)+(look_back*2):len(X)-2, :] = testPredict"
      ],
      "execution_count": null,
      "outputs": []
    },
    {
      "cell_type": "code",
      "metadata": {
        "id": "AWHpCoCUXNGi"
      },
      "source": [
        "# Plota o dataset, as predições sobre o conjunto de treinamento e teste\n",
        "plt.figure(figsize=(10,8))\n",
        "plt.plot(scaler.inverse_transform(X))\n",
        "plt.plot(trainPredictPlot)\n",
        "plt.plot(testPredictPlot)\n",
        "plt.show()"
      ],
      "execution_count": null,
      "outputs": []
    }
  ]
}