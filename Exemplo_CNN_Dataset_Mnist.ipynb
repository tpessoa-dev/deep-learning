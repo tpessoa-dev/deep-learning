{
  "nbformat": 4,
  "nbformat_minor": 0,
  "metadata": {
    "accelerator": "GPU",
    "colab": {
      "name": "Copy of Exemplo CNN Dataset Mnist.ipynb",
      "provenance": []
    },
    "kernelspec": {
      "display_name": "Python 3",
      "language": "python",
      "name": "python3"
    },
    "language_info": {
      "codemirror_mode": {
        "name": "ipython",
        "version": 3
      },
      "file_extension": ".py",
      "mimetype": "text/x-python",
      "name": "python",
      "nbconvert_exporter": "python",
      "pygments_lexer": "ipython3",
      "version": "3.7.7"
    }
  },
  "cells": [
    {
      "cell_type": "code",
      "metadata": {
        "id": "wKphugNdAzIJ"
      },
      "source": [
        "from keras.datasets import mnist\n",
        "import matplotlib.pyplot as plt\n",
        "from keras.models import Sequential, load_model\n",
        "from keras.layers import Dense\n",
        "from keras.layers import Dropout\n",
        "from keras.layers import Flatten\n",
        "from keras.layers.convolutional import Conv2D\n",
        "from keras.layers.convolutional import MaxPooling2D\n",
        "from keras.utils import np_utils\n",
        "from keras import backend as K\n",
        "from keras.preprocessing.image import img_to_array, load_img\n",
        "import numpy as np"
      ],
      "execution_count": null,
      "outputs": []
    },
    {
      "cell_type": "markdown",
      "metadata": {
        "id": "eaj3gyn4AzIO"
      },
      "source": [
        " Carrega os dados do dataset MINST"
      ]
    },
    {
      "cell_type": "code",
      "metadata": {
        "colab": {
          "base_uri": "https://localhost:8080/"
        },
        "id": "mGJcC88tAzIP",
        "outputId": "b8aa6ef1-f31c-4586-fe42-b5f84758633e"
      },
      "source": [
        "(X_train, y_train), (X_test, y_test) = mnist.load_data()"
      ],
      "execution_count": null,
      "outputs": [
        {
          "output_type": "stream",
          "text": [
            "Downloading data from https://storage.googleapis.com/tensorflow/tf-keras-datasets/mnist.npz\n",
            "11493376/11490434 [==============================] - 0s 0us/step\n",
            "11501568/11490434 [==============================] - 0s 0us/step\n"
          ],
          "name": "stdout"
        }
      ]
    },
    {
      "cell_type": "markdown",
      "metadata": {
        "id": "wchq4BLlAzIS"
      },
      "source": [
        "Plota 4 imagens de exemplo em escala de cinza"
      ]
    },
    {
      "cell_type": "code",
      "metadata": {
        "colab": {
          "base_uri": "https://localhost:8080/",
          "height": 268
        },
        "id": "sDdT4RRmAzIT",
        "outputId": "f83f93e9-6fc6-4c8e-9d99-379057a63142"
      },
      "source": [
        "plt.figure(0)\n",
        "plt.subplot(221)\n",
        "plt.imshow(X_train[0], cmap=plt.get_cmap('gray'))\n",
        "plt.subplot(222)\n",
        "plt.imshow(X_train[1], cmap=plt.get_cmap('gray'))\n",
        "plt.subplot(223)\n",
        "plt.imshow(X_train[2], cmap=plt.get_cmap('gray'))\n",
        "plt.subplot(224)\n",
        "plt.imshow(X_train[3], cmap=plt.get_cmap('gray'))\n",
        "#Mostra o as imagens\n",
        "plt.show()"
      ],
      "execution_count": null,
      "outputs": [
        {
          "output_type": "display_data",
          "data": {
            "image/png": "[encoded data removed]",
            "text/plain": [
              "<Figure size 432x288 with 4 Axes>"
            ]
          },
          "metadata": {
            "tags": [],
            "needs_background": "light"
          }
        }
      ]
    },
    {
      "cell_type": "code",
      "metadata": {
        "colab": {
          "base_uri": "https://localhost:8080/"
        },
        "id": "_huEjKB2sucn",
        "outputId": "858e1a6f-e8da-4dc4-df5a-6de903fad7f9"
      },
      "source": [
        "X_train.shape"
      ],
      "execution_count": null,
      "outputs": [
        {
          "output_type": "execute_result",
          "data": {
            "text/plain": [
              "(60000, 28, 28)"
            ]
          },
          "metadata": {
            "tags": []
          },
          "execution_count": 5
        }
      ]
    },
    {
      "cell_type": "code",
      "metadata": {
        "colab": {
          "base_uri": "https://localhost:8080/"
        },
        "id": "Wmg2j51YtCFM",
        "outputId": "b17d24c6-01da-4f76-ced7-386db967eb8b"
      },
      "source": [
        "X_test.shape"
      ],
      "execution_count": null,
      "outputs": [
        {
          "output_type": "execute_result",
          "data": {
            "text/plain": [
              "(10000, 28, 28)"
            ]
          },
          "metadata": {
            "tags": []
          },
          "execution_count": 6
        }
      ]
    },
    {
      "cell_type": "code",
      "metadata": {
        "colab": {
          "base_uri": "https://localhost:8080/"
        },
        "id": "nVeYZtOOZ5uU",
        "outputId": "70709472-c05b-45f6-d94d-b63e17e229ea"
      },
      "source": [
        "print(y_train[0])\n",
        "print(y_train[1])\n",
        "print(y_train[2])\n",
        "print(y_train[3])"
      ],
      "execution_count": null,
      "outputs": [
        {
          "output_type": "stream",
          "text": [
            "5\n",
            "0\n",
            "4\n",
            "1\n"
          ],
          "name": "stdout"
        }
      ]
    },
    {
      "cell_type": "markdown",
      "metadata": {
        "id": "0NyH1OVIAzIX"
      },
      "source": [
        "Apenas ajusta a matriz para as dimensões esperadas do TensorFlow"
      ]
    },
    {
      "cell_type": "code",
      "metadata": {
        "colab": {
          "base_uri": "https://localhost:8080/"
        },
        "id": "CmLUvIRHvNrR",
        "outputId": "cf8ebcc5-675a-4024-b2cd-7d40cb5a776b"
      },
      "source": [
        "y_train"
      ],
      "execution_count": null,
      "outputs": [
        {
          "output_type": "execute_result",
          "data": {
            "text/plain": [
              "array([5, 0, 4, ..., 5, 6, 8], dtype=uint8)"
            ]
          },
          "metadata": {
            "tags": []
          },
          "execution_count": 8
        }
      ]
    },
    {
      "cell_type": "code",
      "metadata": {
        "colab": {
          "base_uri": "https://localhost:8080/"
        },
        "id": "74-AABCMAzIY",
        "outputId": "35ca5228-7463-4153-fe04-cca6192376c1"
      },
      "source": [
        "img_rows, img_cols = 28, 28\n",
        "\n",
        "X_train = X_train.reshape(X_train.shape[0], img_rows, img_cols, 1)\n",
        "X_test = X_test.reshape(X_test.shape[0], img_rows, img_cols, 1)\n",
        "input_shape = (img_rows, img_cols, 1)\n",
        "print(input_shape)\n",
        "# Normaliza as entradas de 0-255 para 0-1\n",
        "X_train = X_train / 255\n",
        "X_test = X_test / 255\n"
      ],
      "execution_count": null,
      "outputs": [
        {
          "output_type": "stream",
          "text": [
            "(28, 28, 1)\n"
          ],
          "name": "stdout"
        }
      ]
    },
    {
      "cell_type": "code",
      "metadata": {
        "id": "SkH-FcReMM8l"
      },
      "source": [
        "# Gera os vetores com as classes do conjunto de dados de treinamento e teste\n",
        "y_train = np_utils.to_categorical(y_train)\n",
        "y_test = np_utils.to_categorical(y_test)\n",
        "num_classes = y_test.shape[1]"
      ],
      "execution_count": null,
      "outputs": []
    },
    {
      "cell_type": "code",
      "metadata": {
        "colab": {
          "base_uri": "https://localhost:8080/"
        },
        "id": "eMfTIZUYetRN",
        "outputId": "ab177949-4d4c-4121-8e4a-fe70bd61fb7d"
      },
      "source": [
        "print(X_test.shape)\n",
        "print(y_test.shape)"
      ],
      "execution_count": null,
      "outputs": [
        {
          "output_type": "stream",
          "text": [
            "(10000, 28, 28, 1)\n",
            "(10000, 10)\n"
          ],
          "name": "stdout"
        }
      ]
    },
    {
      "cell_type": "code",
      "metadata": {
        "colab": {
          "base_uri": "https://localhost:8080/"
        },
        "id": "A-bo1kGQvZwO",
        "outputId": "c5d785ed-e93b-475c-9433-5abdc1848c66"
      },
      "source": [
        "y_train"
      ],
      "execution_count": null,
      "outputs": [
        {
          "output_type": "execute_result",
          "data": {
            "text/plain": [
              "array([[0., 0., 0., ..., 0., 0., 0.],\n",
              "       [1., 0., 0., ..., 0., 0., 0.],\n",
              "       [0., 0., 0., ..., 0., 0., 0.],\n",
              "       ...,\n",
              "       [0., 0., 0., ..., 0., 0., 0.],\n",
              "       [0., 0., 0., ..., 0., 0., 0.],\n",
              "       [0., 0., 0., ..., 0., 1., 0.]], dtype=float32)"
            ]
          },
          "metadata": {
            "tags": []
          },
          "execution_count": 12
        }
      ]
    },
    {
      "cell_type": "markdown",
      "metadata": {
        "id": "hbh3hTgiAzIc"
      },
      "source": [
        "Cria o modelo da rede neural Convolucional"
      ]
    },
    {
      "cell_type": "code",
      "metadata": {
        "colab": {
          "base_uri": "https://localhost:8080/"
        },
        "id": "Ugv-XjmYAzIc",
        "outputId": "4223fbc5-4031-4691-b616-32a6ecf93c96"
      },
      "source": [
        "# Cria o modelo\n",
        "model = Sequential()\n",
        "#Convolução 2D com função de ativação Rectified Linear Units 32 kernels/Pesos (filtros) \n",
        "model.add(Conv2D(32, (5, 5), input_shape=(28, 28, 1), activation='relu'))#\n",
        "print( model.output_shape)\n",
        "#Camada de Pooling \t    \n",
        "model.add(MaxPooling2D(pool_size=(2, 2)))\n",
        "print( model.output_shape)\n",
        "#Convolução 2D com função de ativação Rectified Linear Units 64 kernels/Pesos (filtros) \n",
        "model.add(Conv2D(64, (5, 5), activation='relu'))\n",
        "print( model.output_shape)\n",
        "#Camada de Pooling \t\n",
        "model.add(MaxPooling2D(pool_size=(2, 2)))\n",
        "print( model.output_shape)\n",
        "#Remove 20% das ativações de entrada aleatoriamente \n",
        "model.add(Dropout(0.2))\n",
        "#Converte o conjunto de imagens e um vetor unidimensional para a entrada da rede neural totalmente conectada\n",
        "model.add(Flatten())\n",
        "print( model.output_shape)\n",
        "\n",
        "model.add(Dense(32, activation='sigmoid'))\n",
        "print( model.output_shape)\n",
        "model.add(Dense(16, activation='sigmoid'))\n",
        "print( model.output_shape)\n",
        "#Função de Ativação Softmax\n",
        "model.add(Dense(num_classes, activation='softmax'))\n",
        "print( model.output_shape)"
      ],
      "execution_count": null,
      "outputs": [
        {
          "output_type": "stream",
          "text": [
            "(None, 24, 24, 32)\n",
            "(None, 12, 12, 32)\n",
            "(None, 8, 8, 64)\n",
            "(None, 4, 4, 64)\n",
            "(None, 1024)\n",
            "(None, 32)\n",
            "(None, 16)\n",
            "(None, 10)\n"
          ],
          "name": "stdout"
        }
      ]
    },
    {
      "cell_type": "markdown",
      "metadata": {
        "id": "1sw2JYjfAzIg"
      },
      "source": [
        "Compilando o modelo escolhendo como se dará nossa perda, otimização e métricas (parâmetros do Keras)\n",
        "mais informações em https://keras.io/losses/\n",
        "mais informações em https://keras.io/optimizers/\n",
        "mais informações em https://keras.io/metrics/"
      ]
    },
    {
      "cell_type": "markdown",
      "metadata": {
        "id": "6b4GXdQuXjkH"
      },
      "source": [
        "![Função Softma](https://telescopeinstorage.blob.core.windows.net/datasets/funcaosoftmax.png)"
      ]
    },
    {
      "cell_type": "code",
      "metadata": {
        "id": "nhA_ZpHiAzIg"
      },
      "source": [
        "model.compile(loss='categorical_crossentropy', optimizer='adam', metrics=['accuracy'])"
      ],
      "execution_count": null,
      "outputs": []
    },
    {
      "cell_type": "markdown",
      "metadata": {
        "id": "lJpe5jICAzIj"
      },
      "source": [
        "Treinamento do modelo com **conjunto de validação**"
      ]
    },
    {
      "cell_type": "markdown",
      "metadata": {
        "id": "l6h3WFOsWESz"
      },
      "source": [
        "![Conjunto de Treinamento, Validação e Teste](https://telescopeinstorage.blob.core.windows.net/datasets/validation-set-768x242.jpeg)"
      ]
    },
    {
      "cell_type": "code",
      "metadata": {
        "colab": {
          "base_uri": "https://localhost:8080/"
        },
        "id": "H3w5FtDrAzIk",
        "outputId": "c461c516-0c98-42d7-9d7d-b8e10d0264b2"
      },
      "source": [
        "history = model.fit(X_train, y_train, validation_split = 0.2, epochs=10, batch_size=500)"
      ],
      "execution_count": null,
      "outputs": [
        {
          "output_type": "stream",
          "text": [
            "Epoch 1/10\n",
            "96/96 [==============================] - 45s 17ms/step - loss: 2.2739 - accuracy: 0.2671 - val_loss: 1.9005 - val_accuracy: 0.6081\n",
            "Epoch 2/10\n",
            "96/96 [==============================] - 1s 11ms/step - loss: 1.7755 - accuracy: 0.6822 - val_loss: 1.3724 - val_accuracy: 0.8155\n",
            "Epoch 3/10\n",
            "96/96 [==============================] - 1s 11ms/step - loss: 1.2663 - accuracy: 0.8529 - val_loss: 0.9451 - val_accuracy: 0.9477\n",
            "Epoch 4/10\n",
            "96/96 [==============================] - 1s 11ms/step - loss: 0.8762 - accuracy: 0.9459 - val_loss: 0.6426 - val_accuracy: 0.9617\n",
            "Epoch 5/10\n",
            "96/96 [==============================] - 1s 11ms/step - loss: 0.5986 - accuracy: 0.9612 - val_loss: 0.4418 - val_accuracy: 0.9720\n",
            "Epoch 6/10\n",
            "96/96 [==============================] - 1s 11ms/step - loss: 0.4202 - accuracy: 0.9688 - val_loss: 0.3162 - val_accuracy: 0.9775\n",
            "Epoch 7/10\n",
            "96/96 [==============================] - 1s 11ms/step - loss: 0.3030 - accuracy: 0.9761 - val_loss: 0.2383 - val_accuracy: 0.9799\n",
            "Epoch 8/10\n",
            "96/96 [==============================] - 1s 11ms/step - loss: 0.2297 - accuracy: 0.9793 - val_loss: 0.1862 - val_accuracy: 0.9812\n",
            "Epoch 9/10\n",
            "96/96 [==============================] - 1s 11ms/step - loss: 0.1804 - accuracy: 0.9825 - val_loss: 0.1508 - val_accuracy: 0.9846\n",
            "Epoch 10/10\n",
            "96/96 [==============================] - 1s 11ms/step - loss: 0.1466 - accuracy: 0.9842 - val_loss: 0.1251 - val_accuracy: 0.9863\n"
          ],
          "name": "stdout"
        }
      ]
    },
    {
      "cell_type": "markdown",
      "metadata": {
        "id": "WkuYRzHEAzIn"
      },
      "source": [
        "Plotagem da acurácia de Treinamento e Validação"
      ]
    },
    {
      "cell_type": "code",
      "metadata": {
        "colab": {
          "base_uri": "https://localhost:8080/",
          "height": 295
        },
        "id": "FeHD_SXwAzIo",
        "outputId": "a346edc0-4543-482e-fd4b-bec7a70b1e44"
      },
      "source": [
        "plt.figure(1)\n",
        "plt.plot(history.history['accuracy'])\n",
        "plt.plot(history.history['val_accuracy'])\n",
        "plt.title('model accuracy')\n",
        "plt.ylabel('accuracy')\n",
        "plt.xlabel('epoch')\n",
        "plt.legend(['train', 'validation'], loc='upper left')\n",
        "plt.show()"
      ],
      "execution_count": null,
      "outputs": [
        {
          "output_type": "display_data",
          "data": {
            "image/png": "[encoded data removed]",
            "text/plain": [
              "<Figure size 432x288 with 1 Axes>"
            ]
          },
          "metadata": {
            "tags": [],
            "needs_background": "light"
          }
        }
      ]
    },
    {
      "cell_type": "markdown",
      "metadata": {
        "id": "lxX0T5xdAzIq"
      },
      "source": [
        "Avaliação final do modelo no conjunto de testes"
      ]
    },
    {
      "cell_type": "code",
      "metadata": {
        "colab": {
          "base_uri": "https://localhost:8080/"
        },
        "id": "thvnp8WAAzIr",
        "outputId": "15952ea1-165b-431d-9bc1-4ff40dfb4620"
      },
      "source": [
        "scores = model.evaluate(X_test, y_test, verbose=0)\n",
        "print(\"Erro da CNN: %.2f%%\" % (100-scores[1]*100))\n",
        "print(\"Acurária da CNN: %.2f%%\" % (scores[1]))"
      ],
      "execution_count": null,
      "outputs": [
        {
          "output_type": "stream",
          "text": [
            "Erro da CNN: 1.32%\n",
            "Acurária da CNN: 0.99%\n"
          ],
          "name": "stdout"
        }
      ]
    },
    {
      "cell_type": "code",
      "metadata": {
        "colab": {
          "base_uri": "https://localhost:8080/"
        },
        "id": "yp83-Zutzwzp",
        "outputId": "52f9c9c2-568d-4055-cd1e-4c3aaa5aadbf"
      },
      "source": [
        "scores"
      ],
      "execution_count": null,
      "outputs": [
        {
          "output_type": "execute_result",
          "data": {
            "text/plain": [
              "[0.11712654680013657, 0.9868000149726868]"
            ]
          },
          "metadata": {
            "tags": []
          },
          "execution_count": 18
        }
      ]
    },
    {
      "cell_type": "markdown",
      "metadata": {
        "id": "WOCKIShRAzIt"
      },
      "source": [
        "Salva o modelo"
      ]
    },
    {
      "cell_type": "code",
      "metadata": {
        "id": "J9FNrfNGAzIu"
      },
      "source": [
        "model.save('MNIST.hdf5')"
      ],
      "execution_count": null,
      "outputs": []
    },
    {
      "cell_type": "code",
      "metadata": {
        "id": "v5bYTlBRAzIx"
      },
      "source": [
        "model  = load_model('MNIST.hdf5')"
      ],
      "execution_count": null,
      "outputs": []
    }
  ]
}